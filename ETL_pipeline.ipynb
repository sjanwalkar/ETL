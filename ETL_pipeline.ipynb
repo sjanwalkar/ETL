{
 "cells": [
  {
   "cell_type": "markdown",
   "id": "6ca1072e",
   "metadata": {},
   "source": [
    "#  ETL Pipeline"
   ]
  },
  {
   "cell_type": "code",
   "execution_count": 2,
   "id": "6351edb1",
   "metadata": {},
   "outputs": [],
   "source": [
    "#pip install psycopg2-binary"
   ]
  },
  {
   "cell_type": "code",
   "execution_count": 3,
   "id": "95644c01",
   "metadata": {},
   "outputs": [],
   "source": [
    "#pip install mysql-connector-python"
   ]
  },
  {
   "cell_type": "code",
   "execution_count": 4,
   "id": "818c0845",
   "metadata": {},
   "outputs": [],
   "source": [
    "# Importing Libraries\n",
    "import psycopg2\n",
    "import pandas as pd\n",
    "import numpy as np\n",
    "# Connecting to mySQL server\n",
    "import mysql.connector"
   ]
  },
  {
   "cell_type": "markdown",
   "id": "8a9306b4",
   "metadata": {},
   "source": [
    "## Extract"
   ]
  },
  {
   "cell_type": "code",
   "execution_count": 5,
   "id": "95980eac",
   "metadata": {},
   "outputs": [],
   "source": [
    "# Extracting Data from PostgreSql Database"
   ]
  },
  {
   "cell_type": "code",
   "execution_count": 6,
   "id": "8110db60",
   "metadata": {},
   "outputs": [],
   "source": [
    "def extract():\n",
    "    # Connection variables\n",
    "    hostname = 'localhost'\n",
    "    database='demo'\n",
    "    username = 'postgres'\n",
    "    pwd = 'sachin123'\n",
    "    port_id = 5432\n",
    "    \n",
    "    # Establishing connection\n",
    "    conn = None\n",
    "    cur = None\n",
    "    try:\n",
    "        conn = psycopg2.connect(\n",
    "            host= hostname,\n",
    "            dbname = database,\n",
    "            user = username,\n",
    "            password = pwd,\n",
    "            port = port_id)\n",
    "        cur = conn.cursor()\n",
    "\n",
    "        # Import Customer Table\n",
    "        cur.execute(\"Select * from customer\")\n",
    "        entries = cur.fetchall()\n",
    "        df_customer = pd.DataFrame(entries, columns=['c_EmailID','c_name','mileage','registration_in_mlg_program','home_airport','miles_count','password','IATA_location_code'])\n",
    "\n",
    "        # Import Booking Id Table\n",
    "        cur.execute(\"Select * from booking_id\")\n",
    "        entries = cur.fetchall()\n",
    "        df_bookid = pd.DataFrame(entries, columns=['booking_ID','c_EmailID','credit_card_no'])\n",
    "\n",
    "\n",
    "        # Import Credit card Table\n",
    "        cur.execute(\"Select * from Credit_card\")\n",
    "        entries = cur.fetchall()\n",
    "        df_credit = pd.DataFrame(entries, columns=['credit_card_no','card_type','bank_Name','expiry_Date','Name_on_card','c_EmailID'])\n",
    "\n",
    "\n",
    "        # Import Address Table\n",
    "        cur.execute(\"Select * from Address\")\n",
    "        entries = cur.fetchall()\n",
    "        df_address = pd.DataFrame(entries, columns=['Address','c_EmailID'])\n",
    "\n",
    "\n",
    "         # Import Book Flight Table\n",
    "        cur.execute(\"Select * from book_flight\")\n",
    "        entries = cur.fetchall()\n",
    "        df_bflight = pd.DataFrame(entries, columns=['booking_Id','Airline_code','flight_no','flight_date','booking_date'])\n",
    "\n",
    "\n",
    "        # Import Flight Table\n",
    "        cur.execute(\"Select * from Flight\")\n",
    "        entries = cur.fetchall()\n",
    "        df_flight = pd.DataFrame(entries, columns=['Airline_code','Flight_no','Date','Dep_airport','Dep_time','Arr_airport','Arr_time','Max_seat_firstclass','Max_seat_economy','Max_seat_economy','Booking_type',\n",
    "                                                  'Bonus_miles','c_EmailID','Firstclass_price','Economy_price'])\n",
    "\n",
    "        # Import BonusMiles_cust Table\n",
    "        cur.execute(\"Select * from Bonusmiles_cust\")\n",
    "        entries = cur.fetchall()\n",
    "        df_bmiles = pd.DataFrame(entries, columns=['c_EmailID','Bonus_miles','airline_code','flight_no','date','points_acquired_date'])\n",
    "\n",
    "\n",
    "        \"\"\"  \n",
    "        ********** Demo on table creation/Insertion/Select query *******************\n",
    "\n",
    "\n",
    "        # Dropping table employee\n",
    "        cur.execute('DROP TABLE employee')\n",
    "\n",
    "\n",
    "        # Creating Table employee in demo DataBase\n",
    "        create_script = '''CREATE TABLE IF NOT EXISTS employee(\n",
    "                        emp_id int PRIMARY KEY,\n",
    "                        name VARCHAR(30) NOT NULL,\n",
    "                        dept VARCHAR(20),\n",
    "                        salary int)'''\n",
    "        cur.execute(create_script)\n",
    "\n",
    "        # Inserting entries in employee table\n",
    "        insert_script = '''INSERT INTO employee(emp_id, name, dept, salary) VALUES (%s, %s, %s, %s)'''\n",
    "        values_script = [('1','roy','IT',120000),('2','max','COMP', 125000),('3','kiran','EXTC',100000)]\n",
    "        for value in values_script:\n",
    "            cur.execute(insert_script, value)\n",
    "\n",
    "\n",
    "        # Fetching entries for employee table in demo database\n",
    "        cur.execute('select * from employee')\n",
    "        entries = cur.fetchall()\n",
    "        df = pd.DataFrame(entries, columns=['emp_id','name','dept','salary'])\n",
    "        print(df)\n",
    "\n",
    "        \"\"\"\n",
    "        conn.commit()\n",
    "    except Exception as e:\n",
    "        print(e)\n",
    "    finally:\n",
    "        if conn is not None:\n",
    "            conn.close()\n",
    "        if cur is not None:\n",
    "            cur.close()\n",
    "            \n",
    "    transform(df_customer, df_bookid, df_credit, df_address, df_bflight, df_flight, df_bmiles)"
   ]
  },
  {
   "cell_type": "markdown",
   "id": "c52c25ce",
   "metadata": {},
   "source": [
    "## Transform"
   ]
  },
  {
   "cell_type": "code",
   "execution_count": 7,
   "id": "0f79adf1",
   "metadata": {},
   "outputs": [],
   "source": [
    "def transform(df_customer, df_bookid, df_credit, df_address, df_bflight, df_flight, df_bmiles):\n",
    "    # Combining each DataFrame\n",
    "    df_combined = pd.merge(df_customer, df_bookid, how='inner', on=['c_EmailID'])\n",
    "    df_combined = pd.merge(df_combined, df_credit, how='inner', on=['c_EmailID'])\n",
    "    df_combined = pd.merge(df_combined, df_address, how='inner', on=['c_EmailID'])\n",
    "    df_combined = pd.merge(df_combined, df_flight, how='inner', on=['c_EmailID'])\n",
    "    df_combined = pd.merge(df_combined, df_bmiles, how='inner', on=['c_EmailID'])\n",
    "    df_combined = pd.merge(df_combined, df_bflight, how='inner')\n",
    "    # Removing unwanted columns\n",
    "    df_combined = df_combined[['c_EmailID', 'c_name', 'mileage', 'registration_in_mlg_program',\n",
    "                       'home_airport', 'miles_count', 'password', 'IATA_location_code','credit_card_no_x',\n",
    "                         'card_type','bank_Name', 'expiry_Date', 'booking_Id', 'Address','Bonus_miles_x',\n",
    "                          'Airline_code','Flight_no','Dep_airport', 'Dep_time', 'Arr_airport',\n",
    "                           'Arr_time','Booking_type','flight_date', 'booking_date']]\n",
    "    load(df_combined)\n",
    "\n"
   ]
  },
  {
   "cell_type": "markdown",
   "id": "d72ddb92",
   "metadata": {},
   "source": [
    "## Load"
   ]
  },
  {
   "cell_type": "code",
   "execution_count": 8,
   "id": "35966fcd",
   "metadata": {},
   "outputs": [],
   "source": [
    "# Loading Data into MySQL Database"
   ]
  },
  {
   "cell_type": "code",
   "execution_count": 9,
   "id": "67eed178",
   "metadata": {},
   "outputs": [],
   "source": [
    "def load(df_combined):\n",
    "    db=None\n",
    "    mysql_cur=None\n",
    "\n",
    "    try:\n",
    "\n",
    "        db = mysql.connector.connect(host=\"localhost\",user=\"root\",passwd=\"password\",database=\"demo_mysql\")\n",
    "        mysql_cur = db.cursor()\n",
    "\n",
    "\n",
    "        insert_script = '''INSERT INTO Customer_details (c_EmailID, c_name, mileage, registration_in_mlg_program,\n",
    "           home_airport, miles_count, password, IATA_location_code, credit_card_no, card_type, bank_Name, expiry_Date,\n",
    "           booking_Id, Address, Bonus_miles, airline_code, Flight_no, Dep_airport, Dep_time, Arr_airport, Arr_time, \n",
    "        Booking_type, flight_date, booking_date) VALUES (%s, %s, %s, %s, %s, %s, %s, %s, %s, %s, %s, %s, %s, %s, %s, %s,\n",
    "        %s, %s, %s, %s, %s, %s, %s, %s)'''\n",
    "        # Converting DataFrame into List of Tuples\n",
    "        df_records = df_combined.to_records(index=False)\n",
    "        df_output = list(df_records)\n",
    "\n",
    "        # Inserting the data\n",
    "        for record in df_output:\n",
    "            mysql_cur.execute(insert_script, record.tolist())\n",
    "\n",
    "\n",
    "\n",
    "        db.commit()\n",
    "    except Exception as e:\n",
    "        print(e)\n",
    "\n",
    "    finally:\n",
    "        if db is not None:\n",
    "            db.close()\n",
    "        if mysql_cur is not None:\n",
    "            mysql_cur.close()"
   ]
  },
  {
   "cell_type": "code",
   "execution_count": 10,
   "id": "a0a0766c",
   "metadata": {},
   "outputs": [],
   "source": [
    "if __name__ == \"__main__\":\n",
    "    extract()"
   ]
  }
 ],
 "metadata": {
  "kernelspec": {
   "display_name": "Python 3 (ipykernel)",
   "language": "python",
   "name": "python3"
  },
  "language_info": {
   "codemirror_mode": {
    "name": "ipython",
    "version": 3
   },
   "file_extension": ".py",
   "mimetype": "text/x-python",
   "name": "python",
   "nbconvert_exporter": "python",
   "pygments_lexer": "ipython3",
   "version": "3.9.7"
  }
 },
 "nbformat": 4,
 "nbformat_minor": 5
}
